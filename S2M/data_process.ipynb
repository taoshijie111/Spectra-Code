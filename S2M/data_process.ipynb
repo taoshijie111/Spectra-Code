{
 "cells": [
  {
   "cell_type": "code",
   "execution_count": 3,
   "id": "initial_id",
   "metadata": {
    "collapsed": true,
    "ExecuteTime": {
     "end_time": "2024-03-26T14:01:57.737616Z",
     "start_time": "2024-03-26T14:01:55.174612Z"
    }
   },
   "outputs": [],
   "source": [
    "import pickle\n",
    "import lmdb\n",
    "import os\n",
    "import pandas as pd\n",
    "import numpy as np\n",
    "import torch\n",
    "import shutil\n",
    "from tqdm import tqdm\n",
    "from broaden import SpecBroadener\n",
    "from rdkit import Chem\n",
    "from collections import defaultdict\n",
    "from torch.utils.data import Dataset, DataLoader\n",
    "from torch.nn.utils.rnn import pad_sequence"
   ]
  },
  {
   "cell_type": "markdown",
   "source": [
    "数据拆分，转Lmdb"
   ],
   "metadata": {
    "collapsed": false
   },
   "id": "e701066aa08f6e88"
  },
  {
   "cell_type": "code",
   "outputs": [
    {
     "name": "stderr",
     "output_type": "stream",
     "text": [
      "100%|██████████| 35/35 [00:03<00:00,  9.17it/s]\n"
     ]
    }
   ],
   "source": [
    "\"\"\"\n",
    "获取qm10的smiles\n",
    "\"\"\"\n",
    "lmdb_path = 'qm10'\n",
    "\n",
    "qm10_files = [f'QM10_{i+1}' for i in range(35)]\n",
    "all_smiles = []\n",
    "for qm10_file in tqdm(qm10_files):\n",
    "    folder_path = rf'D:\\IR\\{qm10_file}'\n",
    "    files = os.listdir(folder_path)\n",
    "    smiles = [f.split('.')[0] for f in files]\n",
    "    all_smiles.extend(smiles)\n",
    "\n",
    "all_smiles = set(all_smiles)\n",
    "with open(f'{lmdb_path}/all_smiles.txt', 'w') as f:\n",
    "    for idx, smiles in enumerate(all_smiles):\n",
    "        f.write(f'{idx},{smiles}\\n')"
   ],
   "metadata": {
    "collapsed": false,
    "ExecuteTime": {
     "end_time": "2024-03-26T08:50:46.411181Z",
     "start_time": "2024-03-26T08:50:40.549617Z"
    }
   },
   "id": "97bf94e2968e8908",
   "execution_count": 6
  },
  {
   "cell_type": "code",
   "outputs": [
    {
     "name": "stderr",
     "output_type": "stream",
     "text": [
      "100%|██████████| 35/35 [26:57<00:00, 46.22s/it]\n"
     ]
    }
   ],
   "source": [
    "\"\"\"\n",
    "复制qm10中的文件到同一个文件夹下\n",
    "\"\"\"\n",
    "src_dirs = [f'D:\\IR\\QM10_{i+1}' for i in range(35)]\n",
    "# 目标文件夹路径\n",
    "dest_dir = 'D:\\qm10'\n",
    "\n",
    "# 对于源文件夹列表中的每个文件夹路径\n",
    "for dir_path in tqdm(src_dirs):\n",
    "    # 获取文件夹中的文件列表\n",
    "    files = os.listdir(dir_path)\n",
    "    for file in files:\n",
    "        # 构造完整的文件路径\n",
    "        full_file_path = os.path.join(dir_path, file)\n",
    "        # 将其复制到目标文件夹\n",
    "        shutil.copy(full_file_path, dest_dir)"
   ],
   "metadata": {
    "collapsed": false,
    "ExecuteTime": {
     "end_time": "2024-03-26T09:27:07.803494Z",
     "start_time": "2024-03-26T09:00:10.008433Z"
    }
   },
   "id": "b7e175717f495ad9",
   "execution_count": 15
  },
  {
   "cell_type": "code",
   "outputs": [
    {
     "name": "stdout",
     "output_type": "stream",
     "text": [
      "temp_size: 69\n"
     ]
    }
   ],
   "source": [
    "\"\"\"\n",
    "all_smiles.txt -> train_smiles.txt and test_smiles.txt (8:2)\n",
    "\"\"\"\n",
    "with open('qm10/all_smiles.txt', 'r') as f:\n",
    "    lines = f.readlines()\n",
    "    moles = []\n",
    "    for line in lines:\n",
    "        moles.append(line.strip().split(',')[1])\n",
    "\n",
    "import random\n",
    "\n",
    "random.seed(3407)\n",
    "random.shuffle(moles)\n",
    "\n",
    "train_size = int(len(moles) * 0.8)\n",
    "\n",
    "train_smiles = moles[:train_size]\n",
    "test_smiles = moles[train_size:]\n",
    "\n",
    "# with open('qm10/train_smiles.txt', 'w') as f:\n",
    "#     for smiles in train_smiles:\n",
    "#         f.write('1' + ',' + smiles + '\\n')\n",
    "# \n",
    "# with open('qm10/test_smiles.txt', 'w') as f:\n",
    "#     for smiles in test_smiles:\n",
    "#         f.write('1' + ',' + smiles + '\\n')\n",
    "        \n",
    "\"\"\"\n",
    "temp_smiles.txt\n",
    "\"\"\"\n",
    "temp_size = int(len(moles) * 0.0002)\n",
    "\n",
    "temp_smiles = moles[:temp_size]\n",
    "print('temp_size:', temp_size)\n",
    "with open('qm10/temp_smiles.txt', 'w') as f:\n",
    "    for smiles in temp_smiles:\n",
    "        f.write('1' + ',' + smiles + '\\n')"
   ],
   "metadata": {
    "collapsed": false,
    "ExecuteTime": {
     "end_time": "2024-03-26T08:52:59.467495Z",
     "start_time": "2024-03-26T08:52:59.193795Z"
    }
   },
   "id": "27bd14535897b737",
   "execution_count": 11
  },
  {
   "cell_type": "code",
   "outputs": [],
   "source": [
    "def read_inp(filepath):\n",
    "    smiles, extension = os.path.splitext(os.path.basename(filepath))\n",
    "    freqs = []\n",
    "    irs = []\n",
    "    with open(filepath, 'r') as f:\n",
    "        lines = f.readlines()\n",
    "        for line in lines:\n",
    "            freq, ir = line.strip().split('\\t')\n",
    "            freqs.append(float(freq))\n",
    "            irs.append(float(ir))\n",
    "    return smiles, freqs, irs"
   ],
   "metadata": {
    "collapsed": false,
    "ExecuteTime": {
     "end_time": "2024-03-26T14:02:04.656147Z",
     "start_time": "2024-03-26T14:02:04.647517Z"
    }
   },
   "id": "71f4541b5d3d6c6f",
   "execution_count": 4
  },
  {
   "cell_type": "code",
   "outputs": [
    {
     "name": "stderr",
     "output_type": "stream",
     "text": [
      " 76%|███████▌  | 212399/279996 [1:12:05<23:16, 48.40it/s]"
     ]
    },
    {
     "name": "stdout",
     "output_type": "stream",
     "text": [
      "D:\\qm10\\CC1=NC=CN1C(=C)C#C.inp\n"
     ]
    },
    {
     "name": "stderr",
     "output_type": "stream",
     "text": [
      "100%|██████████| 279996/279996 [1:34:00<00:00, 49.64it/s]"
     ]
    },
    {
     "name": "stdout",
     "output_type": "stream",
     "text": [
      "数据已成功转换为LMDB格式并保存到文件: qm10\n"
     ]
    },
    {
     "name": "stderr",
     "output_type": "stream",
     "text": [
      "\n"
     ]
    }
   ],
   "source": [
    "# 定义要读取的文件夹路径和要保存的 LMDB 文件路径\n",
    "folder_path = r'D:\\qm10'\n",
    "lmdb_path = 'qm10'\n",
    "\n",
    "# 打开 LMDB 文件并开始写入数据\n",
    "env = lmdb.open(lmdb_path, map_size=12500000000, readonly=False, lock=False)\n",
    "\n",
    "# 读取分子映射\n",
    "with open('qm10/train_smiles.txt', 'r') as f:\n",
    "    lines = f.readlines()\n",
    "    moles = []\n",
    "    for line in lines:\n",
    "        moles.append(line.strip().split(',')[1])\n",
    "        \n",
    "# 开始一个事务\n",
    "# 遍历文件夹中的每个文本文件\n",
    "txn = env.begin(write=True)\n",
    "for idx, mol in enumerate(tqdm(moles), 1):\n",
    "    file_path = os.path.join(folder_path, f'{mol}.inp')\n",
    "    \n",
    "    # 读取文本文件并处理数据\n",
    "    try:\n",
    "        smiles, freq, ir = read_inp(file_path)\n",
    "        spec = SpecBroadener(smiles, freq, ir, 4000, 20)\n",
    "    except:\n",
    "        print(file_path)\n",
    "        continue\n",
    "      \n",
    "    # 构建pickle对象\n",
    "    data_dict = {\n",
    "        'smi': mol,\n",
    "        'ir': spec.y,\n",
    "    }\n",
    "    \n",
    "    # 将数据写入LMDB，key为数据的编号（从1到N）\n",
    "    txn.put(str(idx).encode(), pickle.dumps(data_dict))\n",
    "    \n",
    "    if idx % 200 ==0 or idx == len(moles):\n",
    "        txn.commit()\n",
    "        txn = env.begin(write=True)\n",
    "    \n",
    "# 关闭LMDB环境\n",
    "env.close()\n",
    "\n",
    "print(\"数据已成功转换为LMDB格式并保存到文件:\", lmdb_path)"
   ],
   "metadata": {
    "collapsed": false,
    "ExecuteTime": {
     "end_time": "2024-03-27T02:48:13.352665Z",
     "start_time": "2024-03-27T01:14:12.955436Z"
    }
   },
   "id": "1e35442d6c63d5ed",
   "execution_count": 11
  },
  {
   "cell_type": "code",
   "outputs": [],
   "source": [
    "env.close()"
   ],
   "metadata": {
    "collapsed": false,
    "ExecuteTime": {
     "end_time": "2024-03-27T01:12:54.256534Z",
     "start_time": "2024-03-27T01:12:54.239950Z"
    }
   },
   "id": "219740540bb530c9",
   "execution_count": 10
  },
  {
   "cell_type": "code",
   "outputs": [],
   "source": [
    "env = lmdb.open('qm10',readonly=False, lock=False)\n",
    "with env.begin(write=True) as txn:\n",
    "    # 执行垃圾回收操作\n",
    "    txn.cursor().delete()\n",
    "# 关闭 LMDB 环境\n",
    "env.close()"
   ],
   "metadata": {
    "collapsed": false,
    "ExecuteTime": {
     "end_time": "2024-03-27T09:31:49.728614Z",
     "start_time": "2024-03-27T09:31:49.719549Z"
    }
   },
   "id": "dfbebed6e486452c",
   "execution_count": 12
  },
  {
   "cell_type": "markdown",
   "source": [
    "字典制作"
   ],
   "metadata": {
    "collapsed": false
   },
   "id": "983328f7af74f9ea"
  },
  {
   "cell_type": "code",
   "outputs": [],
   "source": [
    "import selfies as sf\n",
    "from tqdm import tqdm"
   ],
   "metadata": {
    "collapsed": false
   },
   "id": "aeb1b09be92904df"
  },
  {
   "cell_type": "code",
   "outputs": [],
   "source": [
    "mol_selfies = []\n",
    "with open('qm10/all_smiles.txt') as f:\n",
    "    lines = f.readlines()\n",
    "    for line in tqdm(lines):\n",
    "        mol_selfies.append(sf.encoder(line.strip().split(',')[1]))\n",
    "mol_selfies"
   ],
   "metadata": {
    "collapsed": false
   },
   "id": "68cb852b811b9081"
  },
  {
   "cell_type": "code",
   "outputs": [],
   "source": [
    "alphabet = list(sf.get_alphabet_from_selfies(mol_selfies))"
   ],
   "metadata": {
    "collapsed": false
   },
   "id": "ef5f23fb3e0f7c28"
  },
  {
   "cell_type": "code",
   "outputs": [],
   "source": [
    "np.save('qm10/alphabet.npy', alphabet)"
   ],
   "metadata": {
    "collapsed": false
   },
   "id": "3c79fc88e84f7278"
  }
 ],
 "metadata": {
  "kernelspec": {
   "display_name": "Python 3",
   "language": "python",
   "name": "python3"
  },
  "language_info": {
   "codemirror_mode": {
    "name": "ipython",
    "version": 2
   },
   "file_extension": ".py",
   "mimetype": "text/x-python",
   "name": "python",
   "nbconvert_exporter": "python",
   "pygments_lexer": "ipython2",
   "version": "2.7.6"
  }
 },
 "nbformat": 4,
 "nbformat_minor": 5
}
